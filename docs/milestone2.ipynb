{
 "cells": [
  {
   "cell_type": "markdown",
   "metadata": {
    "slideshow": {
     "slide_type": "slide"
    }
   },
   "source": [
    "# Documentation -- Milestone 2 "
   ]
  },
  {
   "cell_type": "markdown",
   "metadata": {
    "slideshow": {
     "slide_type": "slide"
    }
   },
   "source": [
    "## Introduction\n",
    "\n",
    "Differentiation is great. It is a necessity in a vast range of applications, such as atomic simulations, economic analysis, and machine learning. In the field of computational science, when functions and programs get complicated, differentiation can become burdensome. This is why we need *automatic differentiation*! It finds the derivative of numerical expressions to the accuracy of machine precision.\n",
    "\n",
    "`superdiff` performs automatic differentiation on single- or multi-variable functions using the _forward mode_ as well as the _reverse mode_. The function is stored as an `Expression` class that can output values and derivatives wherever you need it.\n"
   ]
  },
  {
   "cell_type": "markdown",
   "metadata": {
    "slideshow": {
     "slide_type": "slide"
    }
   },
   "source": [
    "## Background\n",
    "\n",
    "Differentiation is the process of finding derivative, which is the rate of change of a function's output with regard to its variables. Take $f(x,y) =3*x^2+\\exp(y)$ as an example. Symbolic differentiation gives $\\dfrac{\\partial f}{\\partial x}=6x$ and $\\dfrac{\\partial f}{\\partial y}=\\exp(y)$.\n",
    "\n",
    "Automatic differentiation treats a function as a chain of elementary functions and performs differentiation on each elementry function. \n",
    "Here the elementary functions include: (1) A single arithmetic operation, such as $3*x$ and $x_1+x_2$. (2) A single trigonometric operation, such as $\\sin(x)$. (3) A single exponential or logarithmic opration, such as $\\log(x)$.\n",
    "\n",
    "The chain rule dictates that \n",
    "\n",
    "$$\\frac{df(g(x))}{dx}=\\frac{df(x_1)}{dx_1}*\\frac{dg(x)}{dx}.$$\n",
    "\n",
    "Therefore, a function that is made up of elementary functions can be extended into a computational graph. For $f(x,y) =3*x^2+\\exp(y)$, the graph is shown below. Each $x_i$ is the output of an elementary function.\n",
    "\n",
    "<img src=\"https://i.imgur.com/hBQvv4n.jpg\" alt=\"drawing\" width=\"600\"/>\n",
    "  \n",
    "To calulate the derivative of $f$ at $[x,\\ y]$, we pass the value of the previous $x_i$ and $x_i^\\prime$ into the next elementary function to evaluate the derivative of that elementary function. Below shows the forward mode automatic differentiation table. \n",
    "\n",
    "<img src=\"https://i.imgur.com/1AIngxT.png\" alt=\"drawing\" width=\"600\"/>\n",
    "\n",
    "The derivative is computed using the chain rule. To get $\\dfrac{\\partial f}{\\partial x}$, forward mode starts from $\\dfrac{\\partial x_1}{\\partial x}$, while the reverse mode starts from $\\dfrac{\\partial x_6}{\\partial x_4}$. The result is \n",
    "\n",
    "$$\\dfrac{\\partial f}{\\partial x} = \\dfrac{\\partial x_6}{\\partial x_4}\\dfrac{\\partial x_4}{\\partial x_3}\\dfrac{\\partial x_3}{\\partial x_1}\\dfrac{\\partial x_1}{\\partial x}=1*3*2x*1=6x.$$"
   ]
  },
  {
   "cell_type": "markdown",
   "metadata": {
    "slideshow": {
     "slide_type": "subslide"
    }
   },
   "source": [
    "## How to use superdiff\n",
    "\n",
    "Our goal is for the syntax of `superdiff` to be as natural as possible, not requiring the user to learn any new paradigms and thereby minimizing the chances of hard-to-debug errors. Therefore, we take inspiration from the kind of notation one might use when writing out mathematical expressions and functions by hand. For instance, we might have the rather complicated function:\n",
    "\n",
    "$$\n",
    "    f(x, y) = \\frac{x * 0.2 + (\\log(x))^3}{y}\n",
    "$$\n",
    "\n",
    "The core functionality of `superdiff` involves three main kinds of objects: `Variable`, `Expression`, and subclasses of `Operation`. These mean exactly what you might expect from a mathematical context. If a user wants to define an expression, they do so with one or more `Variable`s, and any arbitrary number of `Operation`s. To make a new `Expression` object, the user combines these `Variable` and `Operation` objects in the constructor of the `Expression`, simultaneously defining the ordering of the variables for later use.\n",
    "\n",
    "### 1. How to install `superdiff`"
   ]
  },
  {
   "cell_type": "code",
   "execution_count": null,
   "metadata": {},
   "outputs": [],
   "source": [
    "virtualenv"
   ]
  },
  {
   "cell_type": "code",
   "execution_count": 4,
   "metadata": {
    "slideshow": {
     "slide_type": "slide"
    }
   },
   "outputs": [
    {
     "ename": "ModuleNotFoundError",
     "evalue": "No module named 'superdiff.expression'; 'superdiff' is not a package",
     "output_type": "error",
     "traceback": [
      "\u001b[1;31m---------------------------------------------------------------------------\u001b[0m",
      "\u001b[1;31mModuleNotFoundError\u001b[0m                       Traceback (most recent call last)",
      "\u001b[1;32m<ipython-input-4-59d4f2f63af4>\u001b[0m in \u001b[0;36m<module>\u001b[1;34m\u001b[0m\n\u001b[1;32m----> 1\u001b[1;33m \u001b[1;32mimport\u001b[0m \u001b[0msuperdiff\u001b[0m \u001b[1;32mas\u001b[0m \u001b[0msd\u001b[0m\u001b[1;33m\u001b[0m\u001b[1;33m\u001b[0m\u001b[0m\n\u001b[0m\u001b[0;32m      2\u001b[0m \u001b[1;33m\u001b[0m\u001b[0m\n\u001b[0;32m      3\u001b[0m \u001b[1;34m\"\"\"Define the base variables\"\"\"\u001b[0m\u001b[1;33m\u001b[0m\u001b[1;33m\u001b[0m\u001b[0m\n\u001b[0;32m      4\u001b[0m \u001b[1;33m\u001b[0m\u001b[0m\n\u001b[0;32m      5\u001b[0m \u001b[0mx\u001b[0m \u001b[1;33m=\u001b[0m \u001b[0msd\u001b[0m\u001b[1;33m.\u001b[0m\u001b[0mVar\u001b[0m\u001b[1;33m(\u001b[0m\u001b[1;34m'x'\u001b[0m\u001b[1;33m)\u001b[0m\u001b[1;33m\u001b[0m\u001b[1;33m\u001b[0m\u001b[0m\n",
      "\u001b[1;32mD:\\Dropbox\\CS207\\cs207-FinalProject\\superdiff\\superdiff.py\u001b[0m in \u001b[0;36m<module>\u001b[1;34m\u001b[0m\n\u001b[0;32m      1\u001b[0m \u001b[1;32mfrom\u001b[0m \u001b[0mtyping\u001b[0m \u001b[1;32mimport\u001b[0m \u001b[0mUnion\u001b[0m\u001b[1;33m\u001b[0m\u001b[1;33m\u001b[0m\u001b[0m\n\u001b[0;32m      2\u001b[0m \u001b[1;33m\u001b[0m\u001b[0m\n\u001b[1;32m----> 3\u001b[1;33m \u001b[1;32mfrom\u001b[0m \u001b[0msuperdiff\u001b[0m\u001b[1;33m.\u001b[0m\u001b[0mexpression\u001b[0m \u001b[1;32mimport\u001b[0m \u001b[0mExpression\u001b[0m\u001b[1;33m,\u001b[0m \u001b[0mVar\u001b[0m\u001b[1;33m\u001b[0m\u001b[1;33m\u001b[0m\u001b[0m\n\u001b[0m\u001b[0;32m      4\u001b[0m \u001b[1;32mfrom\u001b[0m \u001b[0msuperdiff\u001b[0m \u001b[1;32mimport\u001b[0m \u001b[0moperations\u001b[0m \u001b[1;32mas\u001b[0m \u001b[0mops\u001b[0m\u001b[1;33m\u001b[0m\u001b[1;33m\u001b[0m\u001b[0m\n\u001b[0;32m      5\u001b[0m \u001b[1;33m\u001b[0m\u001b[0m\n",
      "\u001b[1;31mModuleNotFoundError\u001b[0m: No module named 'superdiff.expression'; 'superdiff' is not a package"
     ]
    }
   ],
   "source": [
    "import superdiff as sd\n",
    "\n",
    "\"\"\"Define the base variables\"\"\"\n",
    "\n",
    "x = sd.Var('x')\n",
    "y = sd.Var('y')\n",
    "\n",
    "\"\"\"This creates an `Expression` that is mathematically equivalent to the one above. \n",
    "As well, the user can evaluate this `Expression` just as they might evaluate a function\"\"\"\n",
    "f = sd.make_expression((x * 0.2 + sd.log(x) ** 3) / y, vars = [x, y])\n"
   ]
  },
  {
   "cell_type": "markdown",
   "metadata": {
    "slideshow": {
     "slide_type": "subslide"
    }
   },
   "source": [
    "## Software Organization\n",
    "### 1. Directory structure\n",
    "```\n",
    "cs207-FinalProject/\n",
    "|\n",
    "|-- superdiff/\n",
    "|   |-- __init__.py\n",
    "|   |-- superdiff.py\n",
    "|   |-- expression.py\n",
    "|   |-- operations.py\n",
    "|\n",
    "|-- tests/\n",
    "|   |-- conftest.py\n",
    "|   |-- operations_test.py\n",
    "|   |-- test_dummy.py\n",
    "|   |-- test_expression.py\n",
    "|\n",
    "|-- docs/\n",
    "|   |-- milestone1.md\n",
    "|   |-- milestone2.ipynb\n",
    "|\n",
    "|-- README.md\n",
    "|-- requirements.txt\n",
    "|-- setup.py\n",
    "|-- LICENSE\n",
    "```\n",
    "\n",
    "`superdiff/` subdirectory hosts our code.\n",
    "\n",
    "`tests/` subdirectory hosts tests to the code.\n",
    "\n",
    "`docs/` subdirectory hosts our milestone documents. Upon completion of the project, the `docs/` subdirectory will include `userdoc.md` for a straightforward guide to using `superdiff`.\n",
    "\n",
    "### 2. Basic modules and their functionality\n",
    "\n",
    "Our modules are `__init__.py`, `superdiff.py`, `expression.py`, and `operations.py`. \n",
    "\n",
    "1. `__init__.py` is\n",
    "\n",
    "2. `superdiff.py` imports everthing from `expression.py` and `operations.py`. Additionally, it contains functions that allow users to build experssions and call all our elementary functions such as `log` and `sin`.\n",
    "\n",
    "3. `expression.py` contains the code for our Variable and Expression classes. These objects build the computational graph in a tree-like structure. Users can call the `eval()` and `deriv()` methods of an expression to get values and derivatives. \n",
    "\n",
    "4. `operations.py` contains elementary function classes. Each elementary function have methods to build new expressions, to evaluate at given points, and to compute the derivative at given points.\n",
    "\n",
    "### 3. Where do tests live? How are they run? How are they integrated?\n",
    "\n",
    "Our test suite will live inside the `tests/` subdirectory under `superdiff/`. `diff_test.py` will include many unit tests to ensure the differentiator modules run correctly and handle edge cases appropriately for a variety of complex functions. They will also more closely test many of the operations abstracted away under the hood to ensure quality is maintained beneath all the layers. Additionally, we will also apply stress tests to see how our package handles overloading. `pytest` will be key in handling this test suite efficiently.\n",
    "\n",
    "We will utilize TravisCI to perform integration testing as we build the package, which will help us flag defects as they arise and maintain quality control among the various components in our software. In addition, CodeCov will help us analyze ways to improve our test suite so that we maintain high coverage of our code.\n",
    "\n",
    "### 4. How to install our package\n",
    "\n",
    "We will use PyPI to distribute our package and use `pip` to package the software. In `setup.py`, we will include a brief description of the package, authors and licensing information, and the appropriate version of the package so that we can host our package on PyPI. This will allow potential users to easily install our product through the `pip` command.\n"
   ]
  },
  {
   "cell_type": "markdown",
   "metadata": {
    "slideshow": {
     "slide_type": "subslide"
    }
   },
   "source": [
    "## Implementation\n",
    "### 1. Core data structures\n",
    "\n",
    "The function to be differentiated (henceforth referred to as ƒ) will be parsed and converted into a directed graph, containing node-like objects for each row in the traceplot (i.e. for each elementary operation in ƒ). The edges of the graph will represent steps from one part of the traceplot to the next.\n",
    "\n",
    "Each node will contain\n",
    "- Type of elementary operation being performed\n",
    "- References to the two mathematical objects that are going to be transformed in the operation\n",
    "- Importantly, *a node does not reference its children*. That is, say we have the following situation:\n",
    "\n",
    "![](https://i.imgur.com/p2gMe9B.png)\n",
    "\n",
    "\n",
    "In this case, C knows about A and B, but not about F. This may seem counterintuitive, since in the forward mode of autodiff, we need to go from A to C to F. However, we want to allow for situations like the following:\n",
    "\n",
    "![](https://i.imgur.com/eWljQhb.png)\n",
    "\n",
    "\n",
    "Here, the function `f3` is composed of two inputs (`f1` and `f2`) and combines them in an operation in node G. Rather than copying functions `f1` and `f2` into brand new graphs, we believe that it would be more memory- and time-efficient to simply refer to the same graph objects that `f1` and `f2` refer to. However, this creates a potential issue if we were to implement the graphs as bidirectional, rather than unidirectional: if we add a connection from G to C *and* C to G, then if the user tries to run the forward mode of autodiff on `f1`, the algorithm will continue past node C onto node G. However, node G is not part of function `f1`!\n",
    "\n",
    "This design choice has a tradeoff, namely that each time autodifferentiation is performed, Python must step from the end of the function all the way to the beginning leaf nodes. In development, we will run tests to determine if this significantly impacts performance. If it does, then we will consider strategies to alleviate the issue. One potential solution would be to make the graph bidirectional, but to also store a reference to the root node. Then, when the algorithm reaches the root node, it knows to stop.\n",
    "\n",
    "### 2. Core classes\n",
    "\n",
    "`Variable` class\n",
    "\n",
    "- Placeholder for the variable in the eventual function\n",
    "- Can be combined with other variables or scalars using elementary operations to create more complex expressions\n",
    "- Has a simple implementation of `.currval()` and `.deriv()` that just return the current value and 1, respectively\n",
    "- Is also used to start the evaluation trace\n",
    "- Is also used to search for the location of the parameters in the evaluation trace\n",
    "\n",
    "`Expression` class\n",
    "\n",
    "- Subclass of `Variable`\n",
    "- Has the attribute `_varlist` to store the order of variables\n",
    "- Represents a function to be differentiated\n",
    "- Contains references to other `Expression`s or `Variable`s\n",
    "- Performs differentiation and evaluation at specific points by calling `BaseOperation`\n",
    "\n",
    "`BaseOperation` and its subclasses\n",
    "\n",
    "- Arithmetic operations and functions such as $\\sin$ and $\\log$\n",
    "\n",
    "`BaseDifferentiator`\n",
    "\n",
    "- Implements basic functionality for both differentiator classes.\n",
    "\n",
    "`ForwardDifferentiator`\n",
    "    \n",
    "- Does the traceplot for forward mode\n",
    "    \n",
    "`ReverseDifferentiator`\n",
    "\n",
    "- Does the traceplot for reverse mode\n",
    "\n",
    "\n",
    "**Inheritance diagram**\n",
    "\n",
    "![](https://i.imgur.com/nBNsIjl.png)\n",
    "![](https://i.imgur.com/q5H4ZZE.png)\n",
    "\n",
    "\n",
    "### 3. Important attributes\n",
    "\n",
    "`Variable`\n",
    "- `curr_val()`\n",
    "- `__repr__()`\n",
    "- `__str__()`\n",
    "- `__eq__()`\n",
    "\n",
    "`Expression`\n",
    "- All methods defined in `Variable`\n",
    "- Stores a list of parent nodes (typically one or two parent nodes)\n",
    "- An `Expression` knows which parameters go with each parent node\n",
    "    - E.g. say an `Expression`, `expr1`, has two parent nodes `par1` and `par2`. `expr1` is a function of three parameters: $x$, $y$, $z$. Then, when `expr1` is initialized, in the constructor, Python will \"ask\" each of `par1` and `par2` whether their leaf nodes (i.e. the `Variable` objects at the end of their computational graphs) contain the `Variable` objects that correspond to $x$, $y$, or $z$. Then, `expr1` will store which variables correspond to which Parent expressions.\n",
    "- `_varlist` is a list containing the arguments to the `Expression` in the order specified by the user\n",
    "- The constructor is used to create an individual node from at most two `Expression`s and an `Operation`:\n",
    "```python\n",
    "e = Expression(expr1, expr2, sd.mul)\n",
    "```\n",
    "The user will rarely call this constructor themselves. Rather, they will call a wrapper around the `Expression` constructor that allows them to specify the order of the function arguments:\n",
    "```python\n",
    "e = sd.make_expression(x * 0.2 + y, vars=[x,y])\n",
    "```\n",
    "where `x` and `y` are `Variable` or `Expression` objects. The second argument, `varlist=[x,y]` sets the `_varlist` attribute of the `Expression` object, which remembers the correct order of the arguments.\n",
    "- `next_parent()` to get the next parent node of the `Expression`\n",
    "- Arithmetic oprations that call `BaseOperation`\n",
    "- `__str__()` and `__repr__()`\n",
    "\n",
    "`BaseOperation` and other `Operation` subclasses\n",
    "- Used to implement elementary operations at each step in the computational graph\n",
    "- `eval()` and `deriv()` methods\n",
    "- `__str__()` and `__repr__()`\n",
    "- We are using inheritance here rather than simply defining these operations ourselves so that all operations have a unified interface\n",
    "\n",
    "\n",
    "`BaseDifferentiator`\n",
    "- Unimplemented version of `deriv()`\n",
    "\n",
    "- Has `.diff()` method\n",
    "- Also a nice `__str__` method\n",
    "- Ensures a consistent interface across different differentiator subclasses\n",
    "- Function signature: `BaseDifferentiator`\n",
    "\n",
    "`ForwardDifferentiator`\n",
    "- Same `.diff()` method as `BaseDifferentiator` but implementing forward mode under the hood\n",
    "\n",
    "`ReverseDifferentiator`\n",
    "- Same `.diff()` method as `BaseDifferentiator` but implementing reverse mode under the hood\n",
    "\n",
    "### 4. External dependencies\n",
    "\n",
    "* `numpy`\n",
    "* `pytest` (only for the test suite, not for the actual functionality)\n",
    "\n",
    "### 5. Elementary functions\n",
    "\n",
    "- We will create a suite of elementary operations that know what their derivatives are (described above)\n",
    "- Each node in the computational graph will be associated with one of these elementary operation objects, as well as the argument(s) for that operation (in the form of references to parent nodes)\n",
    "- When it comes time to differentiate an expression, the differentiator will find which operation is associated with that given step in the evaluation trace, and simply call `operation_name.deriv(*args)`\n",
    "- As well, when the user defines ƒ, they will have to use either the built-in Python operations (add, subtract, multiply, divide, power) or our custom functions, which will have the exact same interface as analogous `numpy` or `math` functions. E.g.\n",
    "```python\n",
    "import superdiff as sd\n",
    "\n",
    "x = sd.Variable('x')\n",
    "y = sd.Variable('y')\n",
    "f = sd.Expression((x * 0.2 + sd.log(x) ** 3) / y, vars = [x, y])\n",
    "```\n",
    "When the built-in Python methods are called (`*`, `+`, `**`, `/`), the appropriate methods of the `Variable` or `Expression` objects will be called, which will in turn call the correct `BaseOperation` subclass. E.g. under the hood, the `Variable.__add__()` method actually calls our `add` operation (subclass of `BaseOperation`), which will then return an `Expression` object (ƒ). The new `Expression`'s root node will refer back to the `add` object so that when ƒ is differentiated, it simply calls the `add.curr_val(parent1, parent2)` or `add.deriv(parent1, parent2)` methods when needed.\n",
    "\n",
    "Under the hood we convert ${x_1}^{x_2} = \\exp(x_2*\\log(x_1))$ and $\\log_{x_1}{x_2}=\\dfrac{\\log(x_2)}{\\log(x_1)}$.\n",
    "\n",
    "### 6. Future plan "
   ]
  },
  {
   "cell_type": "code",
   "execution_count": null,
   "metadata": {},
   "outputs": [],
   "source": []
  }
 ],
 "metadata": {
  "celltoolbar": "Slideshow",
  "kernelspec": {
   "display_name": "Python 3",
   "language": "python",
   "name": "python3"
  },
  "language_info": {
   "codemirror_mode": {
    "name": "ipython",
    "version": 3
   },
   "file_extension": ".py",
   "mimetype": "text/x-python",
   "name": "python",
   "nbconvert_exporter": "python",
   "pygments_lexer": "ipython3",
   "version": "3.7.3"
  }
 },
 "nbformat": 4,
 "nbformat_minor": 2
}
